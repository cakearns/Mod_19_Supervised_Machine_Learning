{
 "cells": [
  {
   "cell_type": "code",
   "execution_count": null,
   "id": "c805e10d",
   "metadata": {},
   "outputs": [],
   "source": [
    "! pwd && ls -al"
   ]
  },
  {
   "cell_type": "code",
   "execution_count": null,
   "id": "b0716072",
   "metadata": {},
   "outputs": [],
   "source": []
  },
  {
   "cell_type": "code",
   "execution_count": null,
   "id": "4919d5a7",
   "metadata": {},
   "outputs": [],
   "source": [
    "import numpy as np\n",
    "import pandas as pd\n",
    "from pathlib import Path\n",
    "from sklearn.model_selection import train_test_split\n",
    "from sklearn.linear_model import LogisticRegression\n",
    "from sklearn.ensemble import RandomForestClassifier\n",
    "from sklearn.feature_selection import SelectFromModel\n",
    "from sklearn.preprocessing import StandardScaler\n"
   ]
  },
  {
   "cell_type": "code",
   "execution_count": null,
   "id": "5d906472",
   "metadata": {},
   "outputs": [],
   "source": [
    "#Prediction: I think Logistic Regression Model will have better performance."
   ]
  },
  {
   "cell_type": "code",
   "execution_count": null,
   "id": "b69a3a81",
   "metadata": {},
   "outputs": [],
   "source": [
    "# Import the data\n",
    "lendingDF = pd.read_csv(\"Resources/lending_data.csv\")\n",
    "lendingDF.head()"
   ]
  },
  {
   "cell_type": "code",
   "execution_count": null,
   "id": "d95595d8",
   "metadata": {},
   "outputs": [],
   "source": [
    "# Split the data into X_train, X_test, y_train, y_test\n",
    "y = lendingDF['loan_status'].values\n",
    "x = lendingDF.drop('loan_status', axis=1)\n",
    "\n",
    "x_train, x_test, y_train, y_test = train_test_split(x, y, random_state=1)"
   ]
  },
  {
   "cell_type": "code",
   "execution_count": null,
   "id": "9b0e9468",
   "metadata": {},
   "outputs": [],
   "source": [
    "x_train.head()"
   ]
  },
  {
   "cell_type": "code",
   "execution_count": null,
   "id": "09afa0e6",
   "metadata": {},
   "outputs": [],
   "source": [
    "x_test.head()\n",
    "\n"
   ]
  },
  {
   "cell_type": "code",
   "execution_count": null,
   "id": "82ac0470",
   "metadata": {},
   "outputs": [],
   "source": [
    "#Create a LogisticRegression model, fit it to the data, and print the model's score"
   ]
  },
  {
   "cell_type": "code",
   "execution_count": null,
   "id": "4ad2c3ed",
   "metadata": {},
   "outputs": [],
   "source": [
    "# Train a Logistic Regression model print the model score\n",
    "classifier = LogisticRegression(random_state=1)\n",
    "classifier"
   ]
  },
  {
   "cell_type": "code",
   "execution_count": null,
   "id": "81d1719d",
   "metadata": {},
   "outputs": [],
   "source": [
    "classifier.fit(x_train, y_train)\n",
    "print(f\"Training Data Score: {classifier.score(x_train, y_train)}\")\n",
    "print(f\"Testing Data Score: {classifier.score(x_test, y_test)}\")"
   ]
  },
  {
   "cell_type": "code",
   "execution_count": null,
   "id": "59af0dc2",
   "metadata": {},
   "outputs": [],
   "source": [
    "#Create a Random Forest Classifie, fit it to the data, and print the model's score"
   ]
  },
  {
   "cell_type": "code",
   "execution_count": null,
   "id": "ac9cc356",
   "metadata": {},
   "outputs": [],
   "source": [
    "# Train a Random Forest Classifier model and print the model score\n",
    "clf = RandomForestClassifier(random_state=1, n_estimators=1000).fit(x_train, y_train)\n",
    "print(f'Training Score: {clf.score(x_train, y_train)}')\n",
    "print(f'Testing Score: {clf.score(x_test, y_test)}')"
   ]
  },
  {
   "cell_type": "code",
   "execution_count": null,
   "id": "a38c6229",
   "metadata": {},
   "outputs": [],
   "source": [
    "#Scale the data"
   ]
  },
  {
   "cell_type": "code",
   "execution_count": null,
   "id": "d0382d75",
   "metadata": {},
   "outputs": [],
   "source": [
    "scaler = StandardScaler()\n",
    "x_train_scaled = scaler.fit_transform(x_train)\n",
    "x_test_scaled = scaler.fit_transform(x_test)\n",
    "x_train_scaled"
   ]
  },
  {
   "cell_type": "code",
   "execution_count": null,
   "id": "b5a0fb35",
   "metadata": {},
   "outputs": [],
   "source": [
    "# Train the Logistic Regression model on the scaled data and print the model score\n",
    "classifier.fit(x_train_scaled, y_train)\n",
    "print(f\"Training Data Score: {classifier.score(x_train_scaled, y_train)}\")\n",
    "print(f\"Testing Data Score: {classifier.score(x_test_scaled, y_test)}\")"
   ]
  },
  {
   "cell_type": "code",
   "execution_count": null,
   "id": "0570f1ad",
   "metadata": {},
   "outputs": [],
   "source": [
    "# Train a Random Forest Classifier model on the scaled data and print the model score\n",
    "clf2 = RandomForestClassifier(random_state=1, n_estimators=1000).fit(x_train_scaled, y_train)\n",
    "print(f\"Training Data Score: {clf2.score(x_train_scaled, y_train)}\")\n",
    "print(f'Testing Score: {clf2.score(x_test_scaled, y_test)}')"
   ]
  },
  {
   "cell_type": "code",
   "execution_count": null,
   "id": "1822cbb8",
   "metadata": {},
   "outputs": [],
   "source": [
    "#Conclusion: I was incorrect with my prediction because the Random Forest Classifier is more accurate with and without the scaling models."
   ]
  },
  {
   "cell_type": "code",
   "execution_count": null,
   "id": "e3c6879a",
   "metadata": {},
   "outputs": [],
   "source": []
  },
  {
   "cell_type": "code",
   "execution_count": null,
   "id": "40f0d1fb",
   "metadata": {},
   "outputs": [],
   "source": []
  },
  {
   "cell_type": "code",
   "execution_count": null,
   "id": "1c84e598",
   "metadata": {},
   "outputs": [],
   "source": []
  },
  {
   "cell_type": "code",
   "execution_count": null,
   "id": "8d3f4193",
   "metadata": {},
   "outputs": [],
   "source": []
  },
  {
   "cell_type": "code",
   "execution_count": null,
   "id": "9ef03940",
   "metadata": {},
   "outputs": [],
   "source": []
  }
 ],
 "metadata": {
  "kernelspec": {
   "display_name": "Python 3 (ipykernel)",
   "language": "python",
   "name": "python3"
  },
  "language_info": {
   "codemirror_mode": {
    "name": "ipython",
    "version": 3
   },
   "file_extension": ".py",
   "mimetype": "text/x-python",
   "name": "python",
   "nbconvert_exporter": "python",
   "pygments_lexer": "ipython3",
   "version": "3.8.2"
  }
 },
 "nbformat": 4,
 "nbformat_minor": 5
}
